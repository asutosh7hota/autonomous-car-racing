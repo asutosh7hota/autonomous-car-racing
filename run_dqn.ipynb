{
 "cells": [
  {
   "cell_type": "code",
   "execution_count": 1,
   "metadata": {},
   "outputs": [
    {
     "name": "stderr",
     "output_type": "stream",
     "text": [
      "Using TensorFlow backend.\n"
     ]
    }
   ],
   "source": [
    "%matplotlib inline\n",
    "import matplotlib.pyplot as plt\n",
    "import matplotlib.image as mpimg\n",
    "import numpy as np\n",
    "\n",
    "import gym\n",
    "env = gym.make('CarRacing-v0')\n",
    "\n",
    "import numpy as np\n",
    "import itertools as it\n",
    "\n",
    "from keras_agent import DQNAgent\n",
    "\n",
    "# import torch\n",
    "# import torch.nn.functional as F\n",
    "# import torch.optim as optim"
   ]
  },
  {
   "cell_type": "code",
   "execution_count": 2,
   "metadata": {},
   "outputs": [
    {
     "name": "stdout",
     "output_type": "stream",
     "text": [
      "---------- Initializing -----------\n",
      "Action Map ->  [[-1.   1.   0.2]\n",
      " [-1.   1.   0. ]\n",
      " [-1.   0.   0.2]\n",
      " [-1.   0.   0. ]\n",
      " [ 0.   1.   0.2]\n",
      " [ 0.   1.   0. ]\n",
      " [ 0.   0.   0.2]\n",
      " [ 0.   0.   0. ]\n",
      " [ 1.   1.   0.2]\n",
      " [ 1.   1.   0. ]\n",
      " [ 1.   0.   0.2]\n",
      " [ 1.   0.   0. ]]\n"
     ]
    },
    {
     "name": "stderr",
     "output_type": "stream",
     "text": [
      "/Users/harsh/code/nn/project/f-dqn/keras_agent.py:97: UserWarning: Update your `MaxPooling2D` call to the Keras 2 API: `MaxPooling2D(pool_size=(2, 2), data_format=\"channels_first\")`\n",
      "  model.add(MaxPooling2D(pool_size = (2, 2), dim_ordering=\"th\"))\n",
      "/Users/harsh/code/nn/project/f-dqn/keras_agent.py:100: UserWarning: Update your `MaxPooling2D` call to the Keras 2 API: `MaxPooling2D(pool_size=(2, 2), data_format=\"channels_first\")`\n",
      "  model.add(MaxPooling2D(pool_size = (2, 2), dim_ordering=\"th\"))\n"
     ]
    },
    {
     "name": "stdout",
     "output_type": "stream",
     "text": [
      "---------- Model ---------\n",
      "_________________________________________________________________\n",
      "Layer (type)                 Output Shape              Param #   \n",
      "=================================================================\n",
      "conv2d_1 (Conv2D)            (None, 8, 94, 94)         224       \n",
      "_________________________________________________________________\n",
      "batch_normalization_1 (Batch (None, 8, 94, 94)         376       \n",
      "_________________________________________________________________\n",
      "max_pooling2d_1 (MaxPooling2 (None, 8, 47, 47)         0         \n",
      "_________________________________________________________________\n",
      "conv2d_2 (Conv2D)            (None, 6, 45, 16)         6784      \n",
      "_________________________________________________________________\n",
      "batch_normalization_2 (Batch (None, 6, 45, 16)         64        \n",
      "_________________________________________________________________\n",
      "max_pooling2d_2 (MaxPooling2 (None, 6, 22, 8)          0         \n",
      "_________________________________________________________________\n",
      "flatten_1 (Flatten)          (None, 1056)              0         \n",
      "_________________________________________________________________\n",
      "dense_1 (Dense)              (None, 256)               270592    \n",
      "_________________________________________________________________\n",
      "dense_2 (Dense)              (None, 12)                3084      \n",
      "=================================================================\n",
      "Total params: 281,124\n",
      "Trainable params: 280,904\n",
      "Non-trainable params: 220\n",
      "_________________________________________________________________\n",
      "None\n"
     ]
    }
   ],
   "source": [
    "agent = DQNAgent(env)"
   ]
  },
  {
   "cell_type": "code",
   "execution_count": 3,
   "metadata": {},
   "outputs": [
    {
     "name": "stdout",
     "output_type": "stream",
     "text": [
      "Track generation: 1179..1478 -> 299-tiles track\n",
      "0 0.3013422818791298 33\n",
      "Track generation: 1035..1302 -> 267-tiles track\n",
      "1 -8.403007518796965 24\n",
      "Track generation: 1219..1538 -> 319-tiles track\n",
      "2 -6.387421383647796 28\n",
      "Track generation: 1101..1385 -> 284-tiles track\n",
      "3 0.7021201413426787 37\n",
      "Track generation: 1032..1299 -> 267-tiles track\n",
      "4 53.72556390977468 55\n",
      "Track generation: 1280..1604 -> 324-tiles track\n",
      "5 -3.9321981424149115 29\n",
      "Track generation: 1195..1498 -> 303-tiles track\n",
      "6 21.28013245033101 39\n",
      "Track generation: 1132..1419 -> 287-tiles track\n",
      "7 7.961538461538382 35\n",
      "Track generation: 957..1205 -> 248-tiles track\n",
      "8 -0.05991902834014695 28\n",
      "Track generation: 1224..1534 -> 310-tiles track\n",
      "9 11.271197411003165 36\n",
      "Track generation: 1108..1389 -> 281-tiles track\n",
      "10 -9.642857142857114 25\n",
      "Track generation: 1222..1537 -> 315-tiles track\n",
      "11 18.955414012738757 40\n",
      "Track generation: 1081..1355 -> 274-tiles track\n",
      "12 27.208058608058515 38\n",
      "Track generation: 1303..1633 -> 330-tiles track\n",
      "13 19.67173252279624 40\n",
      "Track generation: 1132..1419 -> 287-tiles track\n",
      "14 34.133566433566344 41\n",
      "Track generation: 1384..1744 -> 360-tiles track\n",
      "15 -8.601392757660134 27\n",
      "Track generation: 1158..1459 -> 301-tiles track\n",
      "16 18.59999999999991 38\n",
      "Track generation: 1312..1644 -> 332-tiles track\n",
      "17 -2.109667673716068 31\n",
      "Track generation: 1204..1516 -> 312-tiles track\n",
      "18 -0.36109324758848516 31\n",
      "Track generation: 1081..1355 -> 274-tiles track\n",
      "19 13.156043956043874 36\n",
      "Track generation: 1355..1698 -> 343-tiles track\n",
      "20 -0.060233918128712816 31\n",
      "Track generation: 1079..1353 -> 274-tiles track\n",
      "21 33.93406593406584 40\n",
      "Track generation: 1248..1564 -> 316-tiles track\n",
      "22 -9.352380952380923 28\n",
      "Track generation: 1133..1426 -> 293-tiles track\n",
      "23 7.771232876712244 33\n",
      "Track generation: 1368..1714 -> 346-tiles track\n",
      "24 10.278260869565102 44\n",
      "Track generation: 1003..1263 -> 260-tiles track\n",
      "25 5.449034749034684 31\n",
      "Track generation: 1038..1309 -> 271-tiles track\n",
      "26 -2.1740740740741273 27\n",
      "Track generation: 1200..1504 -> 304-tiles track\n",
      "27 -5.29768976897692 28\n",
      "Track generation: 937..1180 -> 243-tiles track\n",
      "28 7.890082644628016 31\n",
      "Track generation: 1105..1386 -> 281-tiles track\n",
      "29 38.8285714285713 42\n",
      "Track generation: 1143..1433 -> 290-tiles track\n",
      "30 1.8418685121106613 31\n",
      "Track generation: 1037..1300 -> 263-tiles track\n",
      "31 65.1366412213743 47\n",
      "Track generation: 1113..1402 -> 289-tiles track\n",
      "32 22.35555555555544 44\n",
      "Track generation: 1024..1290 -> 266-tiles track\n",
      "33 53.76603773584925 56\n",
      "Track generation: 1143..1433 -> 290-tiles track\n",
      "34 13.882698961937635 37\n",
      "Track generation: 1097..1375 -> 278-tiles track\n",
      "35 53.44259927797856 44\n",
      "Track generation: 1224..1534 -> 310-tiles track\n",
      "36 -8.38252427184463 26\n",
      "Track generation: 1125..1418 -> 293-tiles track\n",
      "37 61.4397260273977 71\n",
      "Track generation: 1388..1739 -> 351-tiles track\n",
      "38 27.099999999999874 43\n",
      "Track generation: 1144..1434 -> 290-tiles track\n",
      "39 7.86228373702415 34\n",
      "Track generation: 1332..1669 -> 337-tiles track\n",
      "40 23.647619047618917 43\n",
      "Track generation: 1109..1390 -> 281-tiles track\n",
      "41 -0.12857142857148318 29\n",
      "Track generation: 1042..1315 -> 273-tiles track\n",
      "42 0.7117647058822882 29\n",
      "Track generation: 1205..1510 -> 305-tiles track\n",
      "43 8.373684210526243 37\n",
      "Track generation: 1146..1437 -> 291-tiles track\n",
      "44 10.579310344827498 36\n",
      "Track generation: 1083..1358 -> 275-tiles track\n",
      "45 23.344525547445144 38\n",
      "Track generation: 1243..1558 -> 315-tiles track\n",
      "46 -3.2222929936306244 29\n",
      "Track generation: 1204..1509 -> 305-tiles track\n",
      "47 53.505263157895186 62\n",
      "Track generation: 1216..1524 -> 308-tiles track\n",
      "48 -5.598697068403924 28\n",
      "Track generation: 978..1232 -> 254-tiles track\n",
      "49 -0.7320158102767493 28\n",
      "Track generation: 1175..1474 -> 299-tiles track\n",
      "50 25.10268456375823 51\n",
      "Track generation: 1013..1274 -> 261-tiles track\n",
      "retry to generate track (normal if there are not many of this messages)\n",
      "Track generation: 1220..1530 -> 310-tiles track\n",
      "51 10.97119741100316 37\n",
      "Track generation: 1257..1575 -> 318-tiles track\n",
      "52 6.454889589905285 38\n",
      "Track generation: 1228..1539 -> 311-tiles track\n",
      "53 18.712903225806343 43\n",
      "Track generation: 1188..1489 -> 301-tiles track\n",
      "54 -2.9333333333333833 32\n",
      "Track generation: 1131..1418 -> 287-tiles track\n",
      "55 21.34755244755236 37\n",
      "Track generation: 1142..1440 -> 298-tiles track\n",
      "56 3.7700336700335946 33\n",
      "Track generation: 1284..1609 -> 325-tiles track\n",
      "57 -4.608641975308675 31\n",
      "Track generation: 1176..1474 -> 298-tiles track\n",
      "58 -4.830976430976463 28\n",
      "Track generation: 1101..1383 -> 282-tiles track\n",
      "retry to generate track (normal if there are not many of this messages)\n",
      "Track generation: 1295..1623 -> 328-tiles track\n",
      "59 -16.167584097859297 28\n",
      "Track generation: 1096..1374 -> 278-tiles track\n",
      "60 0.4909747292418132 40\n",
      "Track generation: 1155..1448 -> 293-tiles track\n",
      "61 30.61780821917791 71\n",
      "Track generation: 1094..1372 -> 278-tiles track\n",
      "62 6.231407942238171 69\n",
      "Track generation: 1179..1478 -> 299-tiles track\n",
      "63 -11.021476510067084 26\n",
      "Track generation: 939..1183 -> 244-tiles track\n",
      "64 -3.793415637860143 42\n",
      "Track generation: 1139..1430 -> 291-tiles track\n",
      "retry to generate track (normal if there are not many of this messages)\n",
      "Track generation: 1163..1458 -> 295-tiles track\n",
      "65 -12.89319727891153 33\n",
      "Track generation: 957..1202 -> 245-tiles track\n",
      "retry to generate track (normal if there are not many of this messages)\n",
      "Track generation: 1226..1536 -> 310-tiles track\n",
      "66 -16.955016181229745 33\n",
      "Track generation: 1070..1342 -> 272-tiles track\n",
      "67 -14.23985239852395 30\n",
      "Track generation: 1006..1263 -> 257-tiles track\n",
      "retry to generate track (normal if there are not many of this messages)\n",
      "Track generation: 1311..1643 -> 332-tiles track\n",
      "68 -13.894259818731083 30\n",
      "Track generation: 1156..1449 -> 293-tiles track\n",
      "69 -10.676712328767094 26\n",
      "Track generation: 1186..1486 -> 300-tiles track\n",
      "70 -16.777591973244114 45\n",
      "Track generation: 1093..1370 -> 277-tiles track\n",
      "71 -13.28405797101445 38\n",
      "Track generation: 1299..1628 -> 329-tiles track\n",
      "72 -14.956097560975572 34\n",
      "Track generation: 1013..1273 -> 260-tiles track\n",
      "retry to generate track (normal if there are not many of this messages)\n",
      "Track generation: 909..1145 -> 236-tiles track\n",
      "73 -2.8680851063830524 28\n",
      "Track generation: 984..1238 -> 254-tiles track\n",
      "74 -16.29486166007904 14\n",
      "Track generation: 1150..1442 -> 292-tiles track\n",
      "75 -11.21786941580753 28\n",
      "Track generation: 1183..1474 -> 291-tiles track\n",
      "76 -13.258620689655139 35\n",
      "Track generation: 1156..1449 -> 293-tiles track\n",
      "77 -15.47671232876708 42\n",
      "Track generation: 1158..1451 -> 293-tiles track\n",
      "78 -17.35068493150684 14\n",
      "Track generation: 1040..1314 -> 274-tiles track\n",
      "79 -16.873992673992664 14\n",
      "Track generation: 1043..1313 -> 270-tiles track\n",
      "80 -15.512639405204409 47\n",
      "Track generation: 1138..1427 -> 289-tiles track\n",
      "81 -9.666666666666627 35\n",
      "Track generation: 1200..1504 -> 304-tiles track\n",
      "82 -16.39900990099008 21\n",
      "Track generation: 1069..1340 -> 271-tiles track\n",
      "83 -14.288888888888868 18\n",
      "Track generation: 1071..1348 -> 277-tiles track\n",
      "84 -16.953623188405786 14\n",
      "Track generation: 1188..1489 -> 301-tiles track\n",
      "85 -16.89999999999998 23\n",
      "Track generation: 1172..1469 -> 297-tiles track\n",
      "86 -14.286486486486456 26\n",
      "Track generation: 1110..1392 -> 282-tiles track\n"
     ]
    },
    {
     "ename": "KeyboardInterrupt",
     "evalue": "",
     "output_type": "error",
     "traceback": [
      "\u001b[0;31m---------------------------------------------------------------------------\u001b[0m",
      "\u001b[0;31mKeyboardInterrupt\u001b[0m                         Traceback (most recent call last)",
      "\u001b[0;32m<ipython-input-3-9130021be9ef>\u001b[0m in \u001b[0;36m<module>\u001b[0;34m\u001b[0m\n\u001b[1;32m      2\u001b[0m \u001b[0mframes_in_episodes\u001b[0m \u001b[0;34m=\u001b[0m \u001b[0;34m[\u001b[0m\u001b[0;34m]\u001b[0m\u001b[0;34m\u001b[0m\u001b[0m\n\u001b[1;32m      3\u001b[0m \u001b[0;32mfor\u001b[0m \u001b[0mi\u001b[0m \u001b[0;32min\u001b[0m \u001b[0mrange\u001b[0m\u001b[0;34m(\u001b[0m\u001b[0;36m1000\u001b[0m\u001b[0;34m)\u001b[0m\u001b[0;34m:\u001b[0m\u001b[0;34m\u001b[0m\u001b[0m\n\u001b[0;32m----> 4\u001b[0;31m     \u001b[0mscore\u001b[0m\u001b[0;34m,\u001b[0m \u001b[0mframes\u001b[0m \u001b[0;34m=\u001b[0m \u001b[0magent\u001b[0m\u001b[0;34m.\u001b[0m\u001b[0mplay_episode\u001b[0m\u001b[0;34m(\u001b[0m\u001b[0;34m)\u001b[0m\u001b[0;34m\u001b[0m\u001b[0m\n\u001b[0m\u001b[1;32m      5\u001b[0m     \u001b[0mscores\u001b[0m\u001b[0;34m.\u001b[0m\u001b[0mappend\u001b[0m\u001b[0;34m(\u001b[0m\u001b[0mscore\u001b[0m\u001b[0;34m)\u001b[0m\u001b[0;34m\u001b[0m\u001b[0m\n\u001b[1;32m      6\u001b[0m     \u001b[0mframes_in_episodes\u001b[0m\u001b[0;34m.\u001b[0m\u001b[0mappend\u001b[0m\u001b[0;34m(\u001b[0m\u001b[0mframes\u001b[0m\u001b[0;34m)\u001b[0m\u001b[0;34m\u001b[0m\u001b[0m\n",
      "\u001b[0;32m~/code/nn/project/f-dqn/keras_agent.py\u001b[0m in \u001b[0;36mplay_episode\u001b[0;34m(self)\u001b[0m\n\u001b[1;32m    269\u001b[0m         \u001b[0mreward\u001b[0m \u001b[0;34m+=\u001b[0m \u001b[0mr\u001b[0m\u001b[0;34m\u001b[0m\u001b[0m\n\u001b[1;32m    270\u001b[0m         \u001b[0;32mif\u001b[0m \u001b[0mself\u001b[0m\u001b[0;34m.\u001b[0m\u001b[0mrender\u001b[0m\u001b[0;34m:\u001b[0m\u001b[0;34m\u001b[0m\u001b[0m\n\u001b[0;32m--> 271\u001b[0;31m           \u001b[0mself\u001b[0m\u001b[0;34m.\u001b[0m\u001b[0menv\u001b[0m\u001b[0;34m.\u001b[0m\u001b[0mrender\u001b[0m\u001b[0;34m(\u001b[0m\u001b[0;34m)\u001b[0m\u001b[0;34m\u001b[0m\u001b[0m\n\u001b[0m\u001b[1;32m    272\u001b[0m         \u001b[0;32mif\u001b[0m \u001b[0mdone\u001b[0m\u001b[0;34m:\u001b[0m\u001b[0;34m\u001b[0m\u001b[0m\n\u001b[1;32m    273\u001b[0m           \u001b[0;32mbreak\u001b[0m\u001b[0;34m\u001b[0m\u001b[0m\n",
      "\u001b[0;32m~/code/nn/project/f-dqn/gym/gym/core.py\u001b[0m in \u001b[0;36mrender\u001b[0;34m(self, mode, **kwargs)\u001b[0m\n\u001b[1;32m    247\u001b[0m \u001b[0;34m\u001b[0m\u001b[0m\n\u001b[1;32m    248\u001b[0m     \u001b[0;32mdef\u001b[0m \u001b[0mrender\u001b[0m\u001b[0;34m(\u001b[0m\u001b[0mself\u001b[0m\u001b[0;34m,\u001b[0m \u001b[0mmode\u001b[0m\u001b[0;34m=\u001b[0m\u001b[0;34m'human'\u001b[0m\u001b[0;34m,\u001b[0m \u001b[0;34m**\u001b[0m\u001b[0mkwargs\u001b[0m\u001b[0;34m)\u001b[0m\u001b[0;34m:\u001b[0m\u001b[0;34m\u001b[0m\u001b[0m\n\u001b[0;32m--> 249\u001b[0;31m         \u001b[0;32mreturn\u001b[0m \u001b[0mself\u001b[0m\u001b[0;34m.\u001b[0m\u001b[0menv\u001b[0m\u001b[0;34m.\u001b[0m\u001b[0mrender\u001b[0m\u001b[0;34m(\u001b[0m\u001b[0mmode\u001b[0m\u001b[0;34m,\u001b[0m \u001b[0;34m**\u001b[0m\u001b[0mkwargs\u001b[0m\u001b[0;34m)\u001b[0m\u001b[0;34m\u001b[0m\u001b[0m\n\u001b[0m\u001b[1;32m    250\u001b[0m \u001b[0;34m\u001b[0m\u001b[0m\n\u001b[1;32m    251\u001b[0m     \u001b[0;32mdef\u001b[0m \u001b[0mclose\u001b[0m\u001b[0;34m(\u001b[0m\u001b[0mself\u001b[0m\u001b[0;34m)\u001b[0m\u001b[0;34m:\u001b[0m\u001b[0;34m\u001b[0m\u001b[0m\n",
      "\u001b[0;32m~/code/nn/project/f-dqn/gym/gym/envs/box2d/car_racing.py\u001b[0m in \u001b[0;36mrender\u001b[0;34m(self, mode)\u001b[0m\n\u001b[1;32m    376\u001b[0m         \u001b[0mgl\u001b[0m\u001b[0;34m.\u001b[0m\u001b[0mglViewport\u001b[0m\u001b[0;34m(\u001b[0m\u001b[0;36m0\u001b[0m\u001b[0;34m,\u001b[0m \u001b[0;36m0\u001b[0m\u001b[0;34m,\u001b[0m \u001b[0mVP_W\u001b[0m\u001b[0;34m,\u001b[0m \u001b[0mVP_H\u001b[0m\u001b[0;34m)\u001b[0m\u001b[0;34m\u001b[0m\u001b[0m\n\u001b[1;32m    377\u001b[0m         \u001b[0mt\u001b[0m\u001b[0;34m.\u001b[0m\u001b[0menable\u001b[0m\u001b[0;34m(\u001b[0m\u001b[0;34m)\u001b[0m\u001b[0;34m\u001b[0m\u001b[0m\n\u001b[0;32m--> 378\u001b[0;31m         \u001b[0mself\u001b[0m\u001b[0;34m.\u001b[0m\u001b[0mrender_road\u001b[0m\u001b[0;34m(\u001b[0m\u001b[0;34m)\u001b[0m\u001b[0;34m\u001b[0m\u001b[0m\n\u001b[0m\u001b[1;32m    379\u001b[0m         \u001b[0;32mfor\u001b[0m \u001b[0mgeom\u001b[0m \u001b[0;32min\u001b[0m \u001b[0mself\u001b[0m\u001b[0;34m.\u001b[0m\u001b[0mviewer\u001b[0m\u001b[0;34m.\u001b[0m\u001b[0monetime_geoms\u001b[0m\u001b[0;34m:\u001b[0m\u001b[0;34m\u001b[0m\u001b[0m\n\u001b[1;32m    380\u001b[0m             \u001b[0mgeom\u001b[0m\u001b[0;34m.\u001b[0m\u001b[0mrender\u001b[0m\u001b[0;34m(\u001b[0m\u001b[0;34m)\u001b[0m\u001b[0;34m\u001b[0m\u001b[0m\n",
      "\u001b[0;32m~/code/nn/project/f-dqn/gym/gym/envs/box2d/car_racing.py\u001b[0m in \u001b[0;36mrender_road\u001b[0;34m(self)\u001b[0m\n\u001b[1;32m    413\u001b[0m                 \u001b[0mgl\u001b[0m\u001b[0;34m.\u001b[0m\u001b[0mglVertex3f\u001b[0m\u001b[0;34m(\u001b[0m\u001b[0mk\u001b[0m\u001b[0;34m*\u001b[0m\u001b[0mx\u001b[0m \u001b[0;34m+\u001b[0m \u001b[0;36m0\u001b[0m\u001b[0;34m,\u001b[0m \u001b[0mk\u001b[0m\u001b[0;34m*\u001b[0m\u001b[0my\u001b[0m \u001b[0;34m+\u001b[0m \u001b[0;36m0\u001b[0m\u001b[0;34m,\u001b[0m \u001b[0;36m0\u001b[0m\u001b[0;34m)\u001b[0m\u001b[0;34m\u001b[0m\u001b[0m\n\u001b[1;32m    414\u001b[0m                 \u001b[0mgl\u001b[0m\u001b[0;34m.\u001b[0m\u001b[0mglVertex3f\u001b[0m\u001b[0;34m(\u001b[0m\u001b[0mk\u001b[0m\u001b[0;34m*\u001b[0m\u001b[0mx\u001b[0m \u001b[0;34m+\u001b[0m \u001b[0;36m0\u001b[0m\u001b[0;34m,\u001b[0m \u001b[0mk\u001b[0m\u001b[0;34m*\u001b[0m\u001b[0my\u001b[0m \u001b[0;34m+\u001b[0m \u001b[0mk\u001b[0m\u001b[0;34m,\u001b[0m \u001b[0;36m0\u001b[0m\u001b[0;34m)\u001b[0m\u001b[0;34m\u001b[0m\u001b[0m\n\u001b[0;32m--> 415\u001b[0;31m                 \u001b[0mgl\u001b[0m\u001b[0;34m.\u001b[0m\u001b[0mglVertex3f\u001b[0m\u001b[0;34m(\u001b[0m\u001b[0mk\u001b[0m\u001b[0;34m*\u001b[0m\u001b[0mx\u001b[0m \u001b[0;34m+\u001b[0m \u001b[0mk\u001b[0m\u001b[0;34m,\u001b[0m \u001b[0mk\u001b[0m\u001b[0;34m*\u001b[0m\u001b[0my\u001b[0m \u001b[0;34m+\u001b[0m \u001b[0mk\u001b[0m\u001b[0;34m,\u001b[0m \u001b[0;36m0\u001b[0m\u001b[0;34m)\u001b[0m\u001b[0;34m\u001b[0m\u001b[0m\n\u001b[0m\u001b[1;32m    416\u001b[0m         \u001b[0;32mfor\u001b[0m \u001b[0mpoly\u001b[0m\u001b[0;34m,\u001b[0m \u001b[0mcolor\u001b[0m \u001b[0;32min\u001b[0m \u001b[0mself\u001b[0m\u001b[0;34m.\u001b[0m\u001b[0mroad_poly\u001b[0m\u001b[0;34m:\u001b[0m\u001b[0;34m\u001b[0m\u001b[0m\n\u001b[1;32m    417\u001b[0m             \u001b[0mgl\u001b[0m\u001b[0;34m.\u001b[0m\u001b[0mglColor4f\u001b[0m\u001b[0;34m(\u001b[0m\u001b[0mcolor\u001b[0m\u001b[0;34m[\u001b[0m\u001b[0;36m0\u001b[0m\u001b[0;34m]\u001b[0m\u001b[0;34m,\u001b[0m \u001b[0mcolor\u001b[0m\u001b[0;34m[\u001b[0m\u001b[0;36m1\u001b[0m\u001b[0;34m]\u001b[0m\u001b[0;34m,\u001b[0m \u001b[0mcolor\u001b[0m\u001b[0;34m[\u001b[0m\u001b[0;36m2\u001b[0m\u001b[0;34m]\u001b[0m\u001b[0;34m,\u001b[0m \u001b[0;36m1\u001b[0m\u001b[0;34m)\u001b[0m\u001b[0;34m\u001b[0m\u001b[0m\n",
      "\u001b[0;32m/anaconda3/envs/deeplearning/lib/python3.6/site-packages/pyglet/gl/lib.py\u001b[0m in \u001b[0;36merrcheck\u001b[0;34m(result, func, arguments)\u001b[0m\n\u001b[1;32m     95\u001b[0m             \u001b[0mprint\u001b[0m\u001b[0;34m(\u001b[0m\u001b[0mname\u001b[0m\u001b[0;34m)\u001b[0m\u001b[0;34m\u001b[0m\u001b[0m\n\u001b[1;32m     96\u001b[0m \u001b[0;34m\u001b[0m\u001b[0m\n\u001b[0;32m---> 97\u001b[0;31m     \u001b[0;32mfrom\u001b[0m \u001b[0mpyglet\u001b[0m \u001b[0;32mimport\u001b[0m \u001b[0mgl\u001b[0m\u001b[0;34m\u001b[0m\u001b[0m\n\u001b[0m\u001b[1;32m     98\u001b[0m     \u001b[0mcontext\u001b[0m \u001b[0;34m=\u001b[0m \u001b[0mgl\u001b[0m\u001b[0;34m.\u001b[0m\u001b[0mcurrent_context\u001b[0m\u001b[0;34m\u001b[0m\u001b[0m\n\u001b[1;32m     99\u001b[0m     \u001b[0;32mif\u001b[0m \u001b[0;32mnot\u001b[0m \u001b[0mcontext\u001b[0m\u001b[0;34m:\u001b[0m\u001b[0;34m\u001b[0m\u001b[0m\n",
      "\u001b[0;32m/anaconda3/envs/deeplearning/lib/python3.6/importlib/_bootstrap.py\u001b[0m in \u001b[0;36m_handle_fromlist\u001b[0;34m(module, fromlist, import_, recursive)\u001b[0m\n",
      "\u001b[0;31mKeyboardInterrupt\u001b[0m: "
     ]
    }
   ],
   "source": [
    "scores = []\n",
    "frames_in_episodes = []\n",
    "for i in range(1000):\n",
    "    score, frames = agent.play_episode()\n",
    "    scores.append(score)\n",
    "    frames_in_episodes.append(frames)\n",
    "    print(i, score, frames)\n",
    "#     if i % 500 == 0:\n",
    "#         torch.save(agent.training_model.state_dict(), 'checkpoint.pth')"
   ]
  },
  {
   "cell_type": "code",
   "execution_count": null,
   "metadata": {},
   "outputs": [],
   "source": [
    "from keras.models import load_model\n",
    "\n",
    "agent.model.load_weights('model.h5')"
   ]
  },
  {
   "cell_type": "code",
   "execution_count": null,
   "metadata": {},
   "outputs": [],
   "source": [
    "a = np.array([[1, 2], [3, 4]])\n",
    "mask = np.zeros(a.shape, dtype=bool)\n",
    "b = np.array([0,1])\n",
    "# mask[b] = True\n",
    "# np.ma.masked_array(a, b)\n"
   ]
  },
  {
   "cell_type": "code",
   "execution_count": null,
   "metadata": {},
   "outputs": [],
   "source": []
  },
  {
   "cell_type": "code",
   "execution_count": null,
   "metadata": {},
   "outputs": [],
   "source": [
    "for _ in range(20):\n",
    "    env.render()\n",
    "    obs, r, d, _ = env.step(env.action_space.sample())\n",
    "    \n",
    "plt.imshow(obs)"
   ]
  },
  {
   "cell_type": "code",
   "execution_count": null,
   "metadata": {},
   "outputs": [],
   "source": [
    "obs = env.reset()"
   ]
  },
  {
   "cell_type": "code",
   "execution_count": null,
   "metadata": {},
   "outputs": [],
   "source": [
    "env.close()"
   ]
  },
  {
   "cell_type": "code",
   "execution_count": null,
   "metadata": {},
   "outputs": [],
   "source": [
    "plt.imshow(obs)"
   ]
  },
  {
   "cell_type": "code",
   "execution_count": null,
   "metadata": {},
   "outputs": [],
   "source": [
    "ob2 = np.swapaxes(obs, 0, 2)"
   ]
  },
  {
   "cell_type": "code",
   "execution_count": null,
   "metadata": {},
   "outputs": [],
   "source": [
    "ob2.shape"
   ]
  },
  {
   "cell_type": "code",
   "execution_count": null,
   "metadata": {},
   "outputs": [],
   "source": [
    "obs.shape"
   ]
  },
  {
   "cell_type": "code",
   "execution_count": null,
   "metadata": {},
   "outputs": [],
   "source": [
    "o = np.reshape(obs, (3,96,96))"
   ]
  },
  {
   "cell_type": "code",
   "execution_count": null,
   "metadata": {},
   "outputs": [],
   "source": [
    "o == ob2"
   ]
  },
  {
   "cell_type": "code",
   "execution_count": null,
   "metadata": {},
   "outputs": [],
   "source": [
    "from torchvision import transforms    \n",
    "\n",
    "o = transforms.ToPILImage()(obs)"
   ]
  },
  {
   "cell_type": "code",
   "execution_count": null,
   "metadata": {},
   "outputs": [],
   "source": [
    "o"
   ]
  },
  {
   "cell_type": "code",
   "execution_count": null,
   "metadata": {},
   "outputs": [],
   "source": [
    "torch.device('cpu')"
   ]
  },
  {
   "cell_type": "code",
   "execution_count": null,
   "metadata": {},
   "outputs": [],
   "source": [
    "from skimage import color\n",
    "\n",
    "def process_image(img):\n",
    "    return 2 * color.rgb2gray(img) - 1"
   ]
  },
  {
   "cell_type": "code",
   "execution_count": null,
   "metadata": {},
   "outputs": [],
   "source": [
    "# agent.training_model.load_state_dict(torch.load('checkpoint.pth', map_location='cpu'))\n",
    "\n",
    "for i in range(10):\n",
    "#     states = deque(maxlen = 3)\n",
    "    state = env.reset()\n",
    "    for j in range(500):  \n",
    "        state = process_image(state)\n",
    "        action_idx = agent.get_action_for_state([state, state, state])\n",
    "        print(action_idx)\n",
    "        env.render()\n",
    "        state, reward, done, _ = env.step(agent.action_map[action_idx])\n",
    "        if done:\n",
    "            break \n",
    "            \n",
    "env.close()"
   ]
  },
  {
   "cell_type": "code",
   "execution_count": null,
   "metadata": {},
   "outputs": [],
   "source": [
    "state = env.reset()\n",
    "state = process_image(state)\n",
    "for _ in range(1000):\n",
    "    print('-------------------------------------')\n",
    "    env.render()\n",
    "    action_idx = get_random_action()\n",
    "    action = all_actions[action_idx]\n",
    "    print('Action -> ', action)\n",
    "    next_state, reward, done, info = env.step(env.action_space.sample())\n",
    "    print('Reward ->', reward)\n",
    "    print('Done ->', done)\n",
    "    next_state = process_image(next_state)\n",
    "    print(next_state.shape)\n",
    "    memory.add(state, action_idx, reward, next_state, done)\n",
    "    state = next_state    \n",
    "    print('-------------------------------------')\n"
   ]
  },
  {
   "cell_type": "code",
   "execution_count": null,
   "metadata": {},
   "outputs": [],
   "source": [
    "4e-4"
   ]
  },
  {
   "cell_type": "code",
   "execution_count": null,
   "metadata": {},
   "outputs": [],
   "source": [
    "env.close()"
   ]
  },
  {
   "cell_type": "code",
   "execution_count": null,
   "metadata": {},
   "outputs": [],
   "source": [
    "a = [1,2,3,4,5,6]\n",
    "a[-2:]"
   ]
  },
  {
   "cell_type": "code",
   "execution_count": null,
   "metadata": {},
   "outputs": [],
   "source": [
    "a = np.ones(12)\n",
    "a[1] = 9\n",
    "a[2] = 9\n",
    "a[3] = 9\n",
    "b = np.ones(3, dtype='int32')\n",
    "b[0] = 1\n",
    "b[1] = 2\n",
    "b[2] = 3\n",
    "\n",
    "a[b]"
   ]
  }
 ],
 "metadata": {
  "kernelspec": {
   "display_name": "Python [conda env:deeplearning]",
   "language": "python",
   "name": "conda-env-deeplearning-py"
  },
  "language_info": {
   "codemirror_mode": {
    "name": "ipython",
    "version": 3
   },
   "file_extension": ".py",
   "mimetype": "text/x-python",
   "name": "python",
   "nbconvert_exporter": "python",
   "pygments_lexer": "ipython3",
   "version": "3.6.6"
  }
 },
 "nbformat": 4,
 "nbformat_minor": 2
}
