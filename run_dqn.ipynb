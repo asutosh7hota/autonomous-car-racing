{
 "cells": [
  {
   "cell_type": "code",
   "execution_count": 1,
   "metadata": {},
   "outputs": [],
   "source": [
    "%matplotlib inline\n",
    "import matplotlib.pyplot as plt\n",
    "import matplotlib.image as mpimg\n",
    "import numpy as np\n",
    "\n",
    "import gym\n",
    "env = gym.make('CarRacing-v0')\n",
    "\n",
    "import numpy as np\n",
    "import itertools as it\n",
    "\n",
    "from agent import DQNAgent\n",
    "\n",
    "import torch\n",
    "import torch.nn.functional as F\n",
    "import torch.optim as optim"
   ]
  },
  {
   "cell_type": "code",
   "execution_count": null,
   "metadata": {},
   "outputs": [
    {
     "name": "stdout",
     "output_type": "stream",
     "text": [
      "---------- Initializing -----------\n",
      "Action Map ->  12\n",
      "---------- Model ---------\n",
      "DQN(\n",
      "  (conv1): Conv2d(3, 8, kernel_size=(4, 4), stride=(2, 2))\n",
      "  (bn1): BatchNorm2d(8, eps=1e-05, momentum=0.1, affine=True, track_running_stats=True)\n",
      "  (pool1): MaxPool2d(kernel_size=2, stride=1, padding=0, dilation=1, ceil_mode=False)\n",
      "  (conv2): Conv2d(8, 16, kernel_size=(3, 3), stride=(1, 1))\n",
      "  (bn2): BatchNorm2d(16, eps=1e-05, momentum=0.1, affine=True, track_running_stats=True)\n",
      "  (pool2): MaxPool2d(kernel_size=2, stride=1, padding=0, dilation=1, ceil_mode=False)\n",
      "  (fc1): Linear(in_features=29584, out_features=256, bias=True)\n",
      "  (fc2): Linear(in_features=256, out_features=12, bias=True)\n",
      ")\n"
     ]
    }
   ],
   "source": [
    "agent = DQNAgent(env)"
   ]
  },
  {
   "cell_type": "code",
   "execution_count": null,
   "metadata": {},
   "outputs": [
    {
     "name": "stdout",
     "output_type": "stream",
     "text": [
      "Track generation: 1075..1348 -> 273-tiles track\n",
      "0 13.317647058823447 36\n",
      "Track generation: 1076..1349 -> 273-tiles track\n",
      "1 -6.341176470588236 28\n",
      "Track generation: 1200..1504 -> 304-tiles track\n",
      "2 8.203960396039506 38\n",
      "Track generation: 1211..1518 -> 307-tiles track\n",
      "3 3.0797385620914355 32\n",
      "Track generation: 1167..1462 -> 295-tiles track\n",
      "4 15.919047619047525 39\n",
      "Track generation: 1116..1399 -> 283-tiles track\n",
      "5 -3.5773049645390635 28\n",
      "Track generation: 1163..1458 -> 295-tiles track\n",
      "6 3.21360544217681 36\n",
      "Track generation: 996..1249 -> 253-tiles track\n",
      "7 16.819047619047524 36\n",
      "Track generation: 1120..1404 -> 284-tiles track\n",
      "8 -0.731448763250949 30\n",
      "Track generation: 1251..1568 -> 317-tiles track\n",
      "9 -4.2835443037975125 32\n",
      "Track generation: 1166..1462 -> 296-tiles track\n",
      "10 -2.481355932203442 32\n",
      "Track generation: 1183..1488 -> 305-tiles track\n",
      "11 2.6947368421051863 34\n",
      "Track generation: 1223..1536 -> 313-tiles track\n",
      "retry to generate track (normal if there are not many of this messages)\n",
      "Track generation: 1171..1468 -> 297-tiles track\n",
      "12 16.197297297297204 37\n",
      "Track generation: 1248..1564 -> 316-tiles track\n",
      "13 6.695238095238011 38\n",
      "Track generation: 1460..1829 -> 369-tiles track\n",
      "14 -12.995652173913008 31\n",
      "Track generation: 1009..1270 -> 261-tiles track\n",
      "15 -7.969230769230743 24\n",
      "Track generation: 1094..1372 -> 278-tiles track\n",
      "16 -9.149458483754486 24\n",
      "Track generation: 1171..1466 -> 295-tiles track\n",
      "17 -7.991836734693846 28\n",
      "Track generation: 1131..1423 -> 292-tiles track\n",
      "18 10.737113402061766 35\n",
      "Track generation: 1316..1649 -> 333-tiles track\n",
      "19 2.0325301204818444 37\n",
      "Track generation: 1140..1436 -> 296-tiles track\n",
      "20 20.227118644067588 58\n",
      "Track generation: 981..1233 -> 252-tiles track\n",
      "retry to generate track (normal if there are not many of this messages)\n",
      "Track generation: 1075..1348 -> 273-tiles track\n"
     ]
    }
   ],
   "source": [
    "scores = []\n",
    "frames_in_episodes = []\n",
    "for i in range(1000):\n",
    "    score, frames = agent.play_episode()\n",
    "    scores.append(score)\n",
    "    frames_in_episodes.append(frames)\n",
    "    print(i, score, frames)\n",
    "    if i % 500 == 0:\n",
    "        torch.save(agent.training_model.state_dict(), 'checkpoint.pth')"
   ]
  },
  {
   "cell_type": "code",
   "execution_count": null,
   "metadata": {},
   "outputs": [],
   "source": [
    "for _ in range(20):\n",
    "    env.render()\n",
    "    obs, r, d, _ = env.step(env.action_space.sample())\n",
    "    \n",
    "plt.imshow(obs)"
   ]
  },
  {
   "cell_type": "code",
   "execution_count": 5,
   "metadata": {},
   "outputs": [
    {
     "name": "stdout",
     "output_type": "stream",
     "text": [
      "Track generation: 1109..1390 -> 281-tiles track\n"
     ]
    }
   ],
   "source": [
    "obs = env.reset()"
   ]
  },
  {
   "cell_type": "code",
   "execution_count": 6,
   "metadata": {},
   "outputs": [],
   "source": [
    "env.close()"
   ]
  },
  {
   "cell_type": "code",
   "execution_count": 12,
   "metadata": {},
   "outputs": [
    {
     "data": {
      "text/plain": [
       "<matplotlib.image.AxesImage at 0x12f1ea7f0>"
      ]
     },
     "execution_count": 12,
     "metadata": {},
     "output_type": "execute_result"
    },
    {
     "data": {
      "image/png": "[encoded data removed]",
      "text/plain": [
       "<Figure size 432x288 with 1 Axes>"
      ]
     },
     "metadata": {
      "needs_background": "light"
     },
     "output_type": "display_data"
    }
   ],
   "source": [
    "plt.imshow(obs)"
   ]
  },
  {
   "cell_type": "code",
   "execution_count": 13,
   "metadata": {},
   "outputs": [],
   "source": [
    "ob2 = np.swapaxes(obs, 0, 2)"
   ]
  },
  {
   "cell_type": "code",
   "execution_count": 14,
   "metadata": {},
   "outputs": [
    {
     "data": {
      "text/plain": [
       "(3, 96, 96)"
      ]
     },
     "execution_count": 14,
     "metadata": {},
     "output_type": "execute_result"
    }
   ],
   "source": [
    "ob2.shape"
   ]
  },
  {
   "cell_type": "code",
   "execution_count": null,
   "metadata": {},
   "outputs": [],
   "source": [
    "obs.shape"
   ]
  },
  {
   "cell_type": "code",
   "execution_count": 15,
   "metadata": {},
   "outputs": [],
   "source": [
    "o = np.reshape(obs, (3,96,96))"
   ]
  },
  {
   "cell_type": "code",
   "execution_count": 17,
   "metadata": {},
   "outputs": [
    {
     "data": {
      "text/plain": [
       "array([[[ True,  True,  True, ...,  True,  True,  True],\n",
       "        [ True,  True,  True, ...,  True,  True,  True],\n",
       "        [ True,  True,  True, ...,  True,  True,  True],\n",
       "        ...,\n",
       "        [ True,  True,  True, ...,  True,  True,  True],\n",
       "        [False, False, False, ...,  True,  True,  True],\n",
       "        [ True,  True,  True, ...,  True,  True,  True]],\n",
       "\n",
       "       [[ True,  True,  True, ..., False, False, False],\n",
       "        [False, False, False, ...,  True,  True,  True],\n",
       "        [ True,  True,  True, ...,  True,  True,  True],\n",
       "        ...,\n",
       "        [False, False, False, ..., False, False, False],\n",
       "        [False, False, False, ...,  True,  True,  True],\n",
       "        [ True,  True,  True, ...,  True,  True,  True]],\n",
       "\n",
       "       [[False, False, False, ..., False, False, False],\n",
       "        [False, False, False, ...,  True,  True,  True],\n",
       "        [ True,  True,  True, ...,  True,  True,  True],\n",
       "        ...,\n",
       "        [ True,  True,  True, ...,  True,  True,  True],\n",
       "        [ True,  True,  True, ...,  True,  True,  True],\n",
       "        [ True,  True,  True, ...,  True,  True,  True]]])"
      ]
     },
     "execution_count": 17,
     "metadata": {},
     "output_type": "execute_result"
    }
   ],
   "source": [
    "o == ob2"
   ]
  },
  {
   "cell_type": "code",
   "execution_count": 6,
   "metadata": {},
   "outputs": [],
   "source": [
    "from torchvision import transforms    \n",
    "\n",
    "o = transforms.ToPILImage()(obs)"
   ]
  },
  {
   "cell_type": "code",
   "execution_count": 10,
   "metadata": {},
   "outputs": [
    {
     "data": {
      "image/png": "[encoded data removed]",
      "text/plain": [
       "<PIL.Image.Image image mode=RGB size=96x96 at 0x12C4230B8>"
      ]
     },
     "execution_count": 10,
     "metadata": {},
     "output_type": "execute_result"
    }
   ],
   "source": [
    "o"
   ]
  },
  {
   "cell_type": "code",
   "execution_count": null,
   "metadata": {},
   "outputs": [],
   "source": [
    "torch.device('cpu')"
   ]
  },
  {
   "cell_type": "code",
   "execution_count": null,
   "metadata": {},
   "outputs": [],
   "source": [
    "agent.training_model.load_state_dict(torch.load('checkpoint.pth', map_location='cpu'))\n",
    "\n",
    "for i in range(3):\n",
    "    state = env.reset()\n",
    "    for j in range(200):\n",
    "        action_idx = agent.get_action(state)\n",
    "        print(action_idx)\n",
    "        env.render()\n",
    "        state, reward, done, _ = env.step(agent.action_map[action_idx])\n",
    "        if done:\n",
    "            break \n",
    "            \n",
    "env.close()"
   ]
  },
  {
   "cell_type": "code",
   "execution_count": null,
   "metadata": {},
   "outputs": [],
   "source": [
    "state = env.reset()\n",
    "state = process_image(state)\n",
    "for _ in range(1000):\n",
    "    print('-------------------------------------')\n",
    "    env.render()\n",
    "    action_idx = get_random_action()\n",
    "    action = all_actions[action_idx]\n",
    "    print('Action -> ', action)\n",
    "    next_state, reward, done, info = env.step(env.action_space.sample())\n",
    "    print('Reward ->', reward)\n",
    "    print('Done ->', done)\n",
    "    next_state = process_image(next_state)\n",
    "    print(next_state.shape)\n",
    "    memory.add(state, action_idx, reward, next_state, done)\n",
    "    state = next_state    \n",
    "    print('-------------------------------------')\n"
   ]
  },
  {
   "cell_type": "code",
   "execution_count": null,
   "metadata": {},
   "outputs": [],
   "source": [
    "4e-4"
   ]
  },
  {
   "cell_type": "code",
   "execution_count": null,
   "metadata": {},
   "outputs": [],
   "source": [
    "env.close()"
   ]
  },
  {
   "cell_type": "code",
   "execution_count": null,
   "metadata": {},
   "outputs": [],
   "source": []
  }
 ],
 "metadata": {
  "kernelspec": {
   "display_name": "Python [conda env:deeplearning]",
   "language": "python",
   "name": "conda-env-deeplearning-py"
  },
  "language_info": {
   "codemirror_mode": {
    "name": "ipython",
    "version": 3
   },
   "file_extension": ".py",
   "mimetype": "text/x-python",
   "name": "python",
   "nbconvert_exporter": "python",
   "pygments_lexer": "ipython3",
   "version": "3.6.6"
  }
 },
 "nbformat": 4,
 "nbformat_minor": 2
}
